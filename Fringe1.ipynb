{
 "cells": [
  {
   "cell_type": "markdown",
   "id": "8408b26f-0ea4-4fed-9b4b-e275afad092d",
   "metadata": {},
   "source": [
    "# The Game of Life"
   ]
  },
  {
   "cell_type": "code",
   "execution_count": 611,
   "id": "a1d5c34c-7e7e-4602-9f84-bdf1fd1925bb",
   "metadata": {},
   "outputs": [],
   "source": [
    "import copy\n",
    "import random\n",
    "import time"
   ]
  },
  {
   "cell_type": "code",
   "execution_count": 25,
   "id": "4a148427-90d3-49ad-aee0-113b63369321",
   "metadata": {},
   "outputs": [],
   "source": [
    "board_state = [\n",
    "    [1,1,1,1,1,1,1],\n",
    "    [1,1,1,1,1,1,1],\n",
    "    [1,1,1,1,1,1,1],\n",
    "    [1,1,1,1,1,1,1],\n",
    "    [1,0,1,1,1,1,1],\n",
    "    [1,1,1,1,1,1,1]\n",
    "]"
   ]
  },
  {
   "cell_type": "code",
   "execution_count": 26,
   "id": "a75b9a55-a176-4401-9397-f0527cc80f73",
   "metadata": {},
   "outputs": [
    {
     "data": {
      "text/plain": [
       "0"
      ]
     },
     "execution_count": 26,
     "metadata": {},
     "output_type": "execute_result"
    }
   ],
   "source": [
    "board_state[4][1]"
   ]
  },
  {
   "cell_type": "code",
   "execution_count": 92,
   "id": "c2282da0-46c3-46aa-a909-1fb101567c57",
   "metadata": {},
   "outputs": [],
   "source": [
    "# def dead_state(width, height):\n",
    "#     board = [\n",
    "#         [0 for _ in range(width)]\n",
    "#     for _ in range(height)]\n",
    "#     return board"
   ]
  },
  {
   "cell_type": "code",
   "execution_count": 570,
   "id": "1b8521a1-23ed-4684-a7bd-b6d8d0702ab6",
   "metadata": {},
   "outputs": [
    {
     "data": {
      "text/plain": [
       "[[0, 0, 0], [0, 0, 0], [0, 0, 0]]"
      ]
     },
     "execution_count": 570,
     "metadata": {},
     "output_type": "execute_result"
    }
   ],
   "source": [
    "width = 3\n",
    "height = 3\n",
    "dead_state(width, height)"
   ]
  },
  {
   "cell_type": "code",
   "execution_count": 586,
   "id": "a0e9e48d",
   "metadata": {},
   "outputs": [],
   "source": [
    "# def dead_state(width, height):\n",
    "#     board = [\n",
    "#         [0 for _ in range(width)]\n",
    "#     for _ in range(height)]\n",
    "#     return board"
   ]
  },
  {
   "cell_type": "markdown",
   "id": "cd698972",
   "metadata": {},
   "source": [
    "### The `board` variable is dead. take note and change your parameters"
   ]
  },
  {
   "cell_type": "code",
   "execution_count": 709,
   "id": "5d136a8c",
   "metadata": {},
   "outputs": [],
   "source": [
    "def dead_state(width, height):\n",
    "    return [[0 for _ in range(width)] for _ in range(height)]\n",
    "\n",
    "\n",
    "# state = dead_state(width, height)"
   ]
  },
  {
   "cell_type": "code",
   "execution_count": 682,
   "id": "50fe787d-3c00-4bf1-95c5-fd2c9d1109b2",
   "metadata": {},
   "outputs": [],
   "source": [
    "def random_state(width, height):\n",
    "#     Build the board using your previous work\n",
    "\n",
    "    state = dead_state(width, height)\n",
    "\n",
    "#     REF_0x02 ==> appr.entice\n",
    "#     random_number = [[random.randint(0, 1) for _ in range(width)] for _ in range(height)]\n",
    "#     for i in range(width): # i aka x, and it reps horizontal\n",
    "#         for j in range(height): # j aka y, and it reps vertical\n",
    "#             if random_number[i][j] >= 0.5:\n",
    "#                 cell_state = 1\n",
    "#             else:\n",
    "#                 cell_state = 0\n",
    "#             state[i][j] = cell_state\n",
    "\n",
    "\n",
    "#     REF_0x03 ==> sorc.erer\n",
    "    for i in range(0, state_width(state)):\n",
    "        for j in range(0, state_height(state)):\n",
    "            random_number = random.random()\n",
    "            if random_number > 0.85:\n",
    "                cell_state = 1\n",
    "            else:\n",
    "                cell_state = 0\n",
    "            state[i][j] = cell_state\n",
    "\n",
    "#     REF_0x02\n",
    "#     random_number = [[random.random() for _ in range(width)] for _ in range(height)]\n",
    "#     for i in range(height):\n",
    "#         for j in range(width):\n",
    "#             if random_number[i][j] >= 0.5:\n",
    "#                 state[i][j] = 0\n",
    "#             else:\n",
    "#                 state[i][j] = 1\n",
    "                \n",
    "\n",
    "    \n",
    "#     return random_number\n",
    "    return state"
   ]
  },
  {
   "cell_type": "code",
   "execution_count": 684,
   "id": "d3f2f662",
   "metadata": {},
   "outputs": [],
   "source": [
    "def next_cell_value(cell_coords, state):\n",
    "    # get the next value of a single cell in a state\n",
    "    width = state_width(state)\n",
    "    height = state_height(state)\n",
    "    x = cell_coords[0]\n",
    "    y = cell_coords[1]\n",
    "    n_live_nebs = 0 # number of live neighbors\n",
    "    \n",
    "    # iterate around this cell's neighbors\n",
    "    for x1 in range((x-1), (x+1)+1):\n",
    "        # prevent going off the edge of the board\n",
    "        if x1 < 0 or x1 >= width: continue\n",
    "        \n",
    "        for y1 in range((y-1), (y+1)+1):\n",
    "            # prevent going off the edge of the board\n",
    "            if y1 < 0 or y1 >= height: continue\n",
    "            # prevent counting the cell as a neighbor of itself!\n",
    "            if x1 == x and y1 == y: continue\n",
    "                \n",
    "            if state[x1][y1] == 1: # LIVE\n",
    "                n_live_nebs += 1\n",
    "                \n",
    "    if state[x][y] == 1: # LIVE\n",
    "        if n_live_nebs <= 1:\n",
    "            return 0 # DEAD\n",
    "        elif n_live_nebs <= 3:\n",
    "            return 1 # LIVE\n",
    "        else:\n",
    "            return 0 # DEAD\n",
    "    else:\n",
    "        if n_live_nebs == 3:\n",
    "            return 1 # LIVE\n",
    "        else:\n",
    "            return 0 # DEAD"
   ]
  },
  {
   "cell_type": "code",
   "execution_count": 862,
   "id": "e1a90093",
   "metadata": {},
   "outputs": [
    {
     "name": "stdout",
     "output_type": "stream",
     "text": [
      "\n",
      "Rendering a random state:\n",
      " \n",
      " \n",
      " \n",
      " \n",
      " \n",
      " \n"
     ]
    }
   ],
   "source": [
    "def main():\n",
    "    width = 30\n",
    "\n",
    "    height = 3\n",
    "\n",
    "#     a_dead_state = dead_state(width, height)\n",
    "#     print(\"Rendering a dead state:\")\n",
    "#     render(a_dead_state)\n",
    "\n",
    "    a_random_state = random_state(width, height)\n",
    "    print(\"\\nRendering a random state:\")\n",
    "    render(a_random_state)\n",
    "\n",
    "if __name__ == \"__main__\":\n",
    "    main()"
   ]
  },
  {
   "cell_type": "markdown",
   "id": "d455b5bf",
   "metadata": {},
   "source": [
    "Make a function that returns the length of both the width and the height"
   ]
  },
  {
   "cell_type": "code",
   "execution_count": 753,
   "id": "64e68c4d",
   "metadata": {},
   "outputs": [
    {
     "ename": "SyntaxError",
     "evalue": "cannot assign to operator (1890211928.py, line 11)",
     "output_type": "error",
     "traceback": [
      "\u001b[1;36m  Cell \u001b[1;32mIn[753], line 11\u001b[1;36m\u001b[0m\n\u001b[1;33m    s-height = s_height\u001b[0m\n\u001b[1;37m    ^\u001b[0m\n\u001b[1;31mSyntaxError\u001b[0m\u001b[1;31m:\u001b[0m cannot assign to operator\n"
     ]
    }
   ],
   "source": [
    "def state_width(state):\n",
    "    # get the width of a state\n",
    "    s_width = len(state)\n",
    "    return s_width\n",
    "\n",
    "def state_height(state): # why are they different?\n",
    "    # get the height of a state\n",
    "    s_height = len(state[0])\n",
    "    return s_height # length of state of height i.e the size\n",
    "\n"
   ]
  },
  {
   "cell_type": "code",
   "execution_count": 607,
   "id": "befd0dc1",
   "metadata": {},
   "outputs": [
    {
     "name": "stdout",
     "output_type": "stream",
     "text": [
      "Example Output:\n",
      "\n",
      "[[1, 0, 1], [0, 0, 0], [0, 0, 1]]\n"
     ]
    }
   ],
   "source": [
    "# Approach 1: Generating Random Binary Matrix\n",
    "# random_number = [[random.randint(0, 1) for _ in range(width)] for _ in range(height)]\n",
    "\n",
    "height = 3\n",
    "width = 3\n",
    "\n",
    "# Generate a random binary matrix\n",
    "random_binary_matrix = [[random.randint(0, 1) for _ in range(width)] for _ in range(height)]\n",
    "print(f\"Example Output:\\n\")\n",
    "print(random_binary_matrix)"
   ]
  },
  {
   "cell_type": "markdown",
   "id": "0d353289",
   "metadata": {},
   "source": [
    "Analogies:\n",
    "\n",
    "- Imagine you have a grid of lights that can either be on (1) or off (0). You're randomly flipping the lights on and off.\n",
    "- It's like tossing a coin (0 for tails, 1 for heads) for each cell in the grid independently."
   ]
  },
  {
   "cell_type": "code",
   "execution_count": 784,
   "id": "6ec8525f",
   "metadata": {},
   "outputs": [
    {
     "name": "stdout",
     "output_type": "stream",
     "text": [
      "Example Output:\n",
      "\n",
      "[[0.06572595367463163, 0.1814983182772968, 0.4935371266735249, 0.2841668272711888, 0.08641005489799602, 0.9972710590478084, 0.736520516168447], [0.8156818644902535, 0.12860816888157311, 0.7405465616329311, 0.22549490678186423, 0.16953764316780362, 0.8652008140322907, 0.17833842825718338], [0.15812648567417342, 0.3531793991498876, 0.8581768056054987, 0.5717465147564718, 0.7109802159501144, 0.3020476130532541, 0.4037054234382714], [0.07698377915659127, 0.19076149148329136, 0.19259054601101777, 0.8423161131530591, 0.9319508879590281, 0.17887776028148705, 0.7682201369104708], [0.5813482795389368, 0.20652909880890402, 0.4241334485567969, 0.7762387993348236, 0.915747525740889, 0.35202391899639296, 0.3420850571683781], [0.2142397589347399, 0.8755429611173711, 0.10487975731088539, 0.08427114482200193, 0.5414849608558471, 0.5913393954755479, 0.7116571695025452], [0.08950596004941203, 0.24070713119480125, 0.8488815066197257, 0.37358857589193795, 0.31211739567770724, 0.5181090489590883, 0.019998385748407843]]\n"
     ]
    }
   ],
   "source": [
    "# Approach 2: Generating Random Floating-Point Matrix\n",
    "# random_number = [[random.random() for _ in range(width)] for _ in range(height)]\n",
    "\n",
    "height = 7\n",
    "width = 7\n",
    "\n",
    "# Generate a random floating-point matrix\n",
    "random_float_matrix = [[random.random() for _ in range(width)] for _ in range(height)]\n",
    "print(f\"Example Output:\\n\")\n",
    "print(random_float_matrix)"
   ]
  },
  {
   "cell_type": "markdown",
   "id": "b08d04fd",
   "metadata": {},
   "source": [
    "Analogies:\n",
    "\n",
    "- Imagine you have a bunch of measuring devices, each giving you a random decimal value between 0 and 1.\n",
    "- It's like rolling a fair die and recording the result as a decimal number between 0 and 1 for each cell in the grid."
   ]
  },
  {
   "cell_type": "markdown",
   "id": "4bbb6fcd",
   "metadata": {},
   "source": [
    "In the context of the Game of Life:\n",
    "\n",
    "- Approach 1 would be suitable for generating an initial board state where each cell is either alive (1) or dead (0).\n",
    "- Approach 2 would not directly map to the game's state representation, as the game uses alive (1) and dead (0) cells. You would need to map these floating-point values to alive/dead cells in some way if you wanted to use them for the game."
   ]
  },
  {
   "cell_type": "code",
   "execution_count": 810,
   "id": "1001ad5e",
   "metadata": {},
   "outputs": [
    {
     "name": "stdout",
     "output_type": "stream",
     "text": [
      "Initial state:\n",
      "[0, 0, 0, 0, 0, 0, 0]\n",
      "[0, 0, 0, 1, 1, 0, 0]\n",
      "[0, 0, 0, 0, 0, 0, 0]\n",
      "[1, 0, 0, 0, 1, 1, 0]\n",
      "[0, 0, 0, 0, 0, 0, 1]\n",
      "[0, 0, 0, 0, 0, 0, 0]\n",
      "[0, 0, 0, 0, 1, 1, 0]\n"
     ]
    }
   ],
   "source": [
    "# Experiment with different threshold values\n",
    "initial_state = random_state(7, 7) # Change width and height as needed\n",
    "\n",
    "print(\"Initial state:\")\n",
    "for row in initial_state:\n",
    "    print(row)"
   ]
  },
  {
   "cell_type": "code",
   "execution_count": 816,
   "id": "d5718204",
   "metadata": {},
   "outputs": [
    {
     "data": {
      "text/plain": [
       "[[0, 0, 0, 0, 0, 0, 0],\n",
       " [0, 0, 0, 1, 1, 0, 0],\n",
       " [0, 0, 0, 0, 0, 0, 0],\n",
       " [1, 0, 0, 0, 1, 1, 0],\n",
       " [0, 0, 0, 0, 0, 0, 1],\n",
       " [0, 0, 0, 0, 0, 0, 0],\n",
       " [0, 0, 0, 0, 1, 1, 0]]"
      ]
     },
     "execution_count": 816,
     "metadata": {},
     "output_type": "execute_result"
    }
   ],
   "source": [
    "initial_state "
   ]
  },
  {
   "cell_type": "code",
   "execution_count": 783,
   "id": "aa7ecef4-1d25-4073-bf34-ef6d65541cc9",
   "metadata": {},
   "outputs": [
    {
     "data": {
      "text/plain": [
       "[[0, 1, 0], [1, 0, 1], [0, 0, 1]]"
      ]
     },
     "execution_count": 783,
     "metadata": {},
     "output_type": "execute_result"
    }
   ],
   "source": [
    "random_state(width, height)"
   ]
  },
  {
   "cell_type": "code",
   "execution_count": 795,
   "id": "a1f5936e",
   "metadata": {},
   "outputs": [
    {
     "name": "stdout",
     "output_type": "stream",
     "text": [
      "[0, 0, 0]\n",
      "[0, 0, 0]\n",
      "[0, 0, 0]\n"
     ]
    }
   ],
   "source": [
    "def test_dead_state():\n",
    "    width = 3\n",
    "    height = 3\n",
    "    dead_state_result = dead_state(width, height)\n",
    "    for row in dead_state_result:\n",
    "        print(row)\n",
    "\n",
    "if __name__ == \"__main__\":\n",
    "    test_dead_state()"
   ]
  },
  {
   "cell_type": "code",
   "execution_count": 558,
   "id": "9c20fc5c",
   "metadata": {},
   "outputs": [],
   "source": [
    "# def random_state(width, height):\n",
    "#     state = dead_state(width, height)\n",
    "\n",
    "#     for i in range(height):\n",
    "#         for j in range(width):\n",
    "#             if random.random() >= 0.5:\n",
    "#                 state[i][j] = 0\n",
    "#             else:\n",
    "#                 state[i][j] = 1\n",
    "\n",
    "#     return state\n",
    "\n",
    "## REF 0x01 ==> apprentice\n",
    "# def render(board):\n",
    "#     for row in board:\n",
    "#         row_str = \"|\"\n",
    "#         for cell in row:\n",
    "#             if cell == 0:\n",
    "#                 row_str += \"_\"\n",
    "#             else:\n",
    "#                 row_str += \"*\"\n",
    "#         row_str += \"|\"\n",
    "#         print(row_str)"
   ]
  },
  {
   "cell_type": "code",
   "execution_count": 756,
   "id": "9a876fe0",
   "metadata": {},
   "outputs": [],
   "source": [
    "# REF_0x02 ==> sorcerer\n",
    "\n",
    "def render(state):\n",
    "    width = state_width(state)\n",
    "    height = state_height(state)\n",
    "    DEAD = 0 # will change it and place it as a global variable\n",
    "    LIVE = 1\n",
    "    # displays a state by printing it to the terminal\n",
    "    display_as = {\n",
    "        DEAD: ' ',\n",
    "        # This is \"unicode\" for a filled-in square. You can also just use a thick\n",
    "        # \"ASCII\" character like a '$' or '#'.\n",
    "        LIVE: u\"\\u2588\"\n",
    "    }\n",
    "    lines = []\n",
    "    for y in range(0, height):\n",
    "        line = ''\n",
    "        for x in range(0, width):\n",
    "            line += display_as[state[x][y]] * 2\n",
    "        lines.append(line)\n",
    "    print (\"\\n\".join(line))\n",
    "    "
   ]
  },
  {
   "cell_type": "code",
   "execution_count": 829,
   "id": "6e3ffc9b",
   "metadata": {},
   "outputs": [],
   "source": [
    "def load_board_state(filepath):\n",
    "    # loads a board state from the given filepath\n",
    "    with open(filepath, 'r') as f:\n",
    "        lines = [l.rstrip() for l in f.readlines()]\n",
    "        \n",
    "    height = len(lines)\n",
    "    width = len(lines[0])\n",
    "    board = dead_state(height, width)\n",
    "    \n",
    "    for x, line in enumerate(lines):\n",
    "        for y, char in enumerate(lines):\n",
    "            board[x][y] = int(char)\n",
    "    return board"
   ]
  },
  {
   "cell_type": "code",
   "execution_count": null,
   "id": "c3a5ab84",
   "metadata": {},
   "outputs": [],
   "source": []
  },
  {
   "cell_type": "code",
   "execution_count": 828,
   "id": "9d32b740",
   "metadata": {},
   "outputs": [
    {
     "name": "stdout",
     "output_type": "stream",
     "text": [
      "\n",
      "Rendering a random state:\n",
      " \n",
      " \n",
      " \n",
      " \n",
      " \n",
      " \n"
     ]
    }
   ],
   "source": [
    "def main():\n",
    "    width = 3\n",
    "    height = 3\n",
    "\n",
    "#     a_dead_state = dead_state(width, height)\n",
    "#     print(\"Rendering a dead state:\")\n",
    "#     render(a_dead_state)\n",
    "#     while True:\n",
    "    a_random_state = random_state(width, height)\n",
    "    print(\"\\nRendering a random state:\")\n",
    "    render(a_random_state)\n",
    "#         time.sleep(0.03)\n",
    "\n",
    "if __name__ == \"__main__\":\n",
    "    main()"
   ]
  },
  {
   "cell_type": "markdown",
   "id": "2a00d5b6",
   "metadata": {},
   "source": [
    "Algo\n",
    "\n",
    "1. Take 1 argument - an initial board state. \n",
    "2. use this argument(initial_board_state) to calculate and return the next board state\n",
    "3. Followingt the rules of life\n",
    "- 1. any live cell with 0 or 1 live neighbors becomes dead, because of underpopulation\n",
    "- 2. any live cell with 2 or 3 live neighbors stay alive because its neighborhood is just right\n",
    "- 3. any live cell with more than 3 live neighbors becomes dead, because of overpopulation\n",
    "- 4. any dead cell with exactly 3 live neighbors becomes alive, by reproduction\n",
    "\n",
    "Hints \n",
    "1. testing\n",
    "2. storing the new board state\n",
    "3. iterating over the board\n",
    "4. dealing with cells on the edges\n",
    "\n",
    "More test cases\n",
    "1. How could you check that live cells die when they have more than 3 live neighbors? \n",
    "2. How could you make sure that everything works as expected for cells on the edges of the board and in the corners?\n",
    "3. If you ever manually find a bug that wasn't caught by your test suite, add a test that would have caught it to make sure it never comes back \n"
   ]
  },
  {
   "cell_type": "code",
   "execution_count": 560,
   "id": "e248f9fa",
   "metadata": {},
   "outputs": [],
   "source": [
    "# def next_board_state(board):\n",
    "#     height = len(board)\n",
    "#     width = len(board[0])\n",
    "#     new_board = [[0 for _ in range(width)] for _ in range(height)]\n",
    "\n",
    "#     for i in range(height):\n",
    "#         for j in range(width):\n",
    "#             live_neighbors = count_live_neighbors(board, i, j)\n",
    "#             if board[i][j] == 1:  # Live cell\n",
    "#                 if live_neighbors < 2 or live_neighbors > 3:\n",
    "#                     new_board[i][j] = 0  # Dies due to underpopulation or overpopulation\n",
    "#                 else:\n",
    "#                     new_board[i][j] = 1  # Stays alive\n",
    "#             else:  # Dead cell\n",
    "#                 if live_neighbors == 3:\n",
    "#                     new_board[i][j] = 1  # Becomes alive due to reproduction\n",
    "\n",
    "#     return new_board\n",
    "\n",
    "#     new_state = dead_state(width, height) # Initialize the new state\n",
    "    \n",
    "#     for x in range(height):\n",
    "#         for y in range(width):\n",
    "#             current_cell_value = board[x][y] # Fixed variable name\n",
    "#             live_neighbors = count_live_neighbors(board, x, y) # Fixed function call\n",
    "            \n",
    "#             if current_cell_value == 1: # Live cell\n",
    "#                 if live_neighbors < 2 or live_neighbors > 3:\n",
    "#                     new_state[x][y] = 0 # Dies due to underpopulation or overpopulation\n",
    "#                     print(f\"At ({x}, {y}), cell dies\")\n",
    "#                 else:\n",
    "#                     new_state[x][y] = 1 # Stays alive\n",
    "#                     print(f\"At ({x}, {y}), cell lives\")\n",
    "#             else: # Dead cell\n",
    "#                 if live_neighbors == 3:\n",
    "#                     new_state[x][y] = 1 # Becomes alive due to reproduction\n",
    "#                     print(f\"At ({x}, {y}), cell comes alive\")\n",
    "#     return new_state"
   ]
  },
  {
   "cell_type": "code",
   "execution_count": 693,
   "id": "222b8371",
   "metadata": {},
   "outputs": [],
   "source": [
    "board = dead_state"
   ]
  },
  {
   "cell_type": "code",
   "execution_count": 694,
   "id": "4a98524d",
   "metadata": {},
   "outputs": [
    {
     "data": {
      "text/plain": [
       "<function __main__.dead_state(width, height)>"
      ]
     },
     "execution_count": 694,
     "metadata": {},
     "output_type": "execute_result"
    }
   ],
   "source": [
    "board"
   ]
  },
  {
   "cell_type": "code",
   "execution_count": 833,
   "id": "010853a4",
   "metadata": {},
   "outputs": [],
   "source": [
    "# # REF_0x01 ==> apprentice\n",
    "\n",
    "# def next_board_state(board):\n",
    "#     width = len(board)\n",
    "#     height = len(board[0])\n",
    "#     new_state = dead_state(width, height)  # Initialize the new state\n",
    "# #     new_state = dead_state(height, width)  # Initialize the new state\n",
    "    \n",
    "#     for x in range(height):\n",
    "#         for y in range(width):\n",
    "#             current_cell_value = board[x][y]\n",
    "#             live_neighbors = count_live_neighbors(board, x, y)\n",
    "            \n",
    "# #             print(f\"At ({x}, {y}): current_cell_value = {current_cell_value}, live_neighbors = {live_neighbors}\")\n",
    "            \n",
    "#             if current_cell_value == 1:  # Live cell\n",
    "#                 if live_neighbors < 2 or live_neighbors > 3:\n",
    "#                     new_state[x][y] = 0  # Dies due to underpopulation or overpopulation\n",
    "# #                     print(f\"At ({x}, {y}), cell dies\")\n",
    "#                 else:\n",
    "#                     new_state[x][y] = 1  # Stays alive\n",
    "# #                     print(f\"At ({x}, {y}), cell lives\")\n",
    "#             else:  # Dead cell\n",
    "#                 if live_neighbors == 3:\n",
    "#                     new_state[x][y] = 1  # Becomes alive due to reproduction\n",
    "# #                     print(f\"At ({x}, {y}), cell comes alive\")\n",
    "#     return new_state\n",
    "\n",
    "# # Rest of the code remains the same...\n"
   ]
  },
  {
   "cell_type": "code",
   "execution_count": 834,
   "id": "439c1b35",
   "metadata": {},
   "outputs": [],
   "source": [
    "# REF_0x02 ==> sorcerer\n",
    "# to be used \n",
    "\n",
    "def next_board_state(init_state):\n",
    "    width = state_width(init_state)\n",
    "    height = state_height(init_state)\n",
    "    new_state = dead_state(width, height)\n",
    "    \n",
    "    for x in range(0, width):\n",
    "        for y in range(0, height):\n",
    "            new_state[x][y] = next_cell_value((x, y), init_state)\n",
    "            \n",
    "    return new_state\n"
   ]
  },
  {
   "cell_type": "code",
   "execution_count": 704,
   "id": "2e219246",
   "metadata": {},
   "outputs": [
    {
     "name": "stdout",
     "output_type": "stream",
     "text": [
      "Expected:\n",
      "[0, 0, 0]\n",
      "[1, 1, 1]\n",
      "[0, 0, 0]\n",
      "Actual:\n",
      "[0, 0, 0]\n",
      "[1, 1, 1]\n",
      "[0, 0, 0]\n",
      "At (0, 0), live_neighbors: 2\n",
      "At (0, 1), live_neighbors: 1\n",
      "At (0, 2), live_neighbors: 2\n",
      "At (1, 0), live_neighbors: 3\n",
      "At (1, 1), live_neighbors: 2\n",
      "At (1, 2), live_neighbors: 3\n",
      "At (2, 0), live_neighbors: 2\n",
      "At (2, 1), live_neighbors: 1\n",
      "At (2, 2), live_neighbors: 2\n",
      "All tests passed!\n"
     ]
    }
   ],
   "source": [
    "def test_next_board_state():\n",
    "    initial_board = [\n",
    "        [0, 1, 0],\n",
    "        [0, 1, 0],\n",
    "        [0, 1, 0]\n",
    "    ]\n",
    "    expected_next_state = [\n",
    "        [0, 0, 0],\n",
    "        [1, 1, 1],\n",
    "        [0, 0, 0]\n",
    "    ]\n",
    "    \n",
    "    actual_next_state = next_board_state(initial_board)\n",
    "    \n",
    "    print(\"Expected:\")\n",
    "    for row in expected_next_state:\n",
    "        print(row)\n",
    "    print(\"Actual:\")\n",
    "    for row in actual_next_state:\n",
    "        print(row)\n",
    "\n",
    "    assert actual_next_state == expected_next_state\n",
    "\n",
    "    for x in range(len(initial_board)):\n",
    "        for y in range(len(initial_board[0])):\n",
    "            live_neighbors = count_live_neighbors(initial_board, x, y)\n",
    "            print(f\"At ({x}, {y}), live_neighbors: {live_neighbors}\")\n",
    "\n",
    "    print(\"All tests passed!\")\n",
    "\n",
    "if __name__ == \"__main__\":\n",
    "    test_next_board_state()\n"
   ]
  },
  {
   "cell_type": "code",
   "execution_count": 581,
   "id": "1a28083e",
   "metadata": {},
   "outputs": [],
   "source": [
    "def count_live_neighbors(board, x, y): # Changed row, col to x, y\n",
    "    live_neighbors = 0\n",
    "    height = len(board)\n",
    "    width = len(board[0])\n",
    "    live_count = 0\n",
    "    \n",
    "    for i in range(-1, 2):\n",
    "        for j in range(-1, 2):\n",
    "            if i == 0 and j == 0: # Skip the center cell itself\n",
    "                continue\n",
    "            new_x = x + i\n",
    "            new_y = y + j\n",
    "#Old code\n",
    "#             if 0 <= new_x < height and 0 <= new_y < width and board[new_x][new_y] == 1:\n",
    "#                 live_count += 1\n",
    "            if 0 <= new_x < height and 0 <= new_y < width:\n",
    "                live_count += board[new_x][new_y]\n",
    "                \n",
    "                        \n",
    "    \n",
    "    return live_count\n",
    "\n",
    "#Trial1\n",
    "#     for i in range(max(0, row - 1), min(height, row + 2)):\n",
    "#         for j in range(max(0, col - 1), min(width, col + 2)):\n",
    "#             if i == row and j == col:\n",
    "#                 continue  # Skip the current cell\n",
    "#             live_neighbors += board[i][j]\n",
    "\n",
    "#     return live_neighbors\n",
    "\n",
    "\n",
    "#Trial3\n",
    "#     for dx in [-1, 0, 1]:\n",
    "#         for dy in [-1, 0, 1]:\n",
    "#             if dx == 0 and dy == 0:\n",
    "#                 continue\n",
    "#             new_x = (x + dx) % height  # Wrap around vertically\n",
    "#             new_y = (y + dy) % width  # Wrap around horizontally\n",
    "#             live_neighbors += board[new_x][new_y]\n",
    "    \n",
    "#     print(f\"At ({x}, {y}), live_neighbors: {live_neighbors}\")\n",
    "#     return live_neighbors  \n",
    "\n",
    "#Trial2\n",
    "#             new_x = x + dx\n",
    "#             new_y = y + dy\n",
    "#             if 0 <= new_x < height and 0 <= new_y < width:\n",
    "#                 live_neighbors += board[new_x][new_y]\n",
    "\n",
    "#     return live_neighbors"
   ]
  },
  {
   "cell_type": "code",
   "execution_count": 582,
   "id": "d1b8a919",
   "metadata": {
    "collapsed": true
   },
   "outputs": [
    {
     "name": "stdout",
     "output_type": "stream",
     "text": [
      "At (0, 0), live_neighbors: 2\n",
      "At (0, 1), live_neighbors: 1\n",
      "At (0, 2), live_neighbors: 2\n",
      "At (1, 0), live_neighbors: 3\n",
      "At (1, 1), live_neighbors: 2\n",
      "At (1, 2), live_neighbors: 3\n",
      "At (2, 0), live_neighbors: 2\n",
      "At (2, 1), live_neighbors: 1\n",
      "At (2, 2), live_neighbors: 2\n"
     ]
    }
   ],
   "source": [
    "def test_count_live_neighbors():\n",
    "    initial_board = [\n",
    "        [0, 1, 0],\n",
    "        [0, 1, 0],\n",
    "        [0, 1, 0]\n",
    "    ]\n",
    "    height = len(initial_board)\n",
    "    width = len(initial_board[0])\n",
    "\n",
    "    for x in range(height):\n",
    "        for y in range(width):\n",
    "            live_neighbors = count_live_neighbors(initial_board, x, y)\n",
    "            print(f\"At ({x}, {y}), live_neighbors: {live_neighbors}\")\n",
    "\n",
    "if __name__ == \"__main__\":\n",
    "    test_count_live_neighbors()\n"
   ]
  },
  {
   "cell_type": "code",
   "execution_count": 583,
   "id": "f29380cd",
   "metadata": {
    "collapsed": true
   },
   "outputs": [
    {
     "name": "stdout",
     "output_type": "stream",
     "text": [
      "At (0, 0): current_cell_value = 0, live_neighbors = 0\n",
      "At (0, 1): current_cell_value = 0, live_neighbors = 0\n",
      "At (0, 2): current_cell_value = 0, live_neighbors = 0\n",
      "At (1, 0): current_cell_value = 0, live_neighbors = 0\n",
      "At (1, 1): current_cell_value = 0, live_neighbors = 0\n",
      "At (1, 2): current_cell_value = 0, live_neighbors = 0\n",
      "At (2, 0): current_cell_value = 0, live_neighbors = 0\n",
      "At (2, 1): current_cell_value = 0, live_neighbors = 0\n",
      "At (2, 2): current_cell_value = 0, live_neighbors = 0\n",
      "PASSED 1\n",
      "At (0, 0): current_cell_value = 0, live_neighbors = 1\n",
      "At (0, 1): current_cell_value = 0, live_neighbors = 3\n",
      "At (0, 1), cell comes alive\n",
      "At (0, 2): current_cell_value = 1, live_neighbors = 2\n",
      "At (0, 2), cell lives\n",
      "At (1, 0): current_cell_value = 0, live_neighbors = 1\n",
      "At (1, 1): current_cell_value = 1, live_neighbors = 2\n",
      "At (1, 1), cell lives\n",
      "At (1, 2): current_cell_value = 1, live_neighbors = 2\n",
      "At (1, 2), cell lives\n",
      "At (2, 0): current_cell_value = 0, live_neighbors = 1\n",
      "At (2, 1): current_cell_value = 0, live_neighbors = 2\n",
      "At (2, 2): current_cell_value = 0, live_neighbors = 2\n",
      "PASSED 2\n",
      "At (0, 0): current_cell_value = 1, live_neighbors = 3\n",
      "At (0, 0), cell lives\n",
      "At (0, 1): current_cell_value = 1, live_neighbors = 5\n",
      "At (0, 1), cell dies\n",
      "At (0, 2): current_cell_value = 1, live_neighbors = 3\n",
      "At (0, 2), cell lives\n",
      "At (1, 0): current_cell_value = 1, live_neighbors = 5\n",
      "At (1, 0), cell dies\n",
      "At (1, 1): current_cell_value = 1, live_neighbors = 8\n",
      "At (1, 1), cell dies\n",
      "At (1, 2): current_cell_value = 1, live_neighbors = 5\n",
      "At (1, 2), cell dies\n",
      "At (2, 0): current_cell_value = 1, live_neighbors = 3\n",
      "At (2, 0), cell lives\n",
      "At (2, 1): current_cell_value = 1, live_neighbors = 5\n",
      "At (2, 1), cell dies\n",
      "At (2, 2): current_cell_value = 1, live_neighbors = 3\n",
      "At (2, 2), cell lives\n",
      "PASSED 3\n",
      "At (0, 0): current_cell_value = 1, live_neighbors = 1\n",
      "At (0, 0), cell dies\n",
      "At (0, 1): current_cell_value = 0, live_neighbors = 3\n",
      "At (0, 1), cell comes alive\n",
      "At (0, 2): current_cell_value = 1, live_neighbors = 1\n",
      "At (0, 2), cell dies\n",
      "At (1, 0): current_cell_value = 0, live_neighbors = 3\n",
      "At (1, 0), cell comes alive\n",
      "At (1, 1): current_cell_value = 1, live_neighbors = 4\n",
      "At (1, 1), cell dies\n",
      "At (1, 2): current_cell_value = 0, live_neighbors = 3\n",
      "At (1, 2), cell comes alive\n",
      "At (2, 0): current_cell_value = 1, live_neighbors = 1\n",
      "At (2, 0), cell dies\n",
      "At (2, 1): current_cell_value = 0, live_neighbors = 3\n",
      "At (2, 1), cell comes alive\n",
      "At (2, 2): current_cell_value = 1, live_neighbors = 1\n",
      "At (2, 2), cell dies\n",
      "PASSED 4\n"
     ]
    }
   ],
   "source": [
    "def compare_states(expected, actual, test_number):\n",
    "    if expected == actual:\n",
    "        print(f\"PASSED {test_number}\")\n",
    "    else:\n",
    "        print(f\"FAILED {test_number}!\")\n",
    "        print(\"Expected:\")\n",
    "        print(expected)\n",
    "        print(\"Actual:\")\n",
    "        print(actual)\n",
    "\n",
    "def main():\n",
    "    # TEST 1: dead cells with no live neighbors should stay dead.\n",
    "    init_state1 = [\n",
    "        [0, 0, 0],\n",
    "        [0, 0, 0],\n",
    "        [0, 0, 0]\n",
    "    ]\n",
    "    expected_next_state1 = [\n",
    "        [0, 0, 0],\n",
    "        [0, 0, 0],\n",
    "        [0, 0, 0]\n",
    "    ]\n",
    "    actual_next_state1 = next_board_state(init_state1)\n",
    "    compare_states(expected_next_state1, actual_next_state1, 1)\n",
    "\n",
    "    # TEST 2: dead cells with exactly 3 neighbors should come alive.\n",
    "    init_state2 = [\n",
    "        [0, 0, 1],\n",
    "        [0, 1, 1],\n",
    "        [0, 0, 0]\n",
    "    ]\n",
    "    expected_next_state2 = [\n",
    "        [0, 1, 1],\n",
    "        [0, 1, 1],\n",
    "        [0, 0, 0]\n",
    "    ]\n",
    "    actual_next_state2 = next_board_state(init_state2)\n",
    "    compare_states(expected_next_state2, actual_next_state2, 2)\n",
    "    \n",
    "    # TEST 3: live cells with more than 3 neighbors die due to overpopulation.\n",
    "    init_state3 = [\n",
    "        [1, 1, 1],\n",
    "        [1, 1, 1],\n",
    "        [1, 1, 1]\n",
    "    ]\n",
    "    expected_next_state3 = [\n",
    "        [1, 0, 1],\n",
    "        [0, 0, 0],\n",
    "        [1, 0, 1]\n",
    "    ]\n",
    "    actual_next_state3 = next_board_state(init_state3)\n",
    "    compare_states(expected_next_state3, actual_next_state3, 3)\n",
    "    \n",
    "    # TEST 4: Check cells on the edges and corners.\n",
    "    init_state4 = [\n",
    "        [1, 0, 1],\n",
    "        [0, 1, 0],\n",
    "        [1, 0, 1]\n",
    "    ]\n",
    "    expected_next_state4 = [\n",
    "        [0, 1, 0],\n",
    "        [1, 0, 1],\n",
    "        [0, 1, 0]\n",
    "    ]\n",
    "    actual_next_state4 = next_board_state(init_state4)\n",
    "    compare_states(expected_next_state4, actual_next_state4, 4)\n",
    "\n",
    "if __name__ == \"__main__\":\n",
    "    main()\n"
   ]
  },
  {
   "cell_type": "markdown",
   "id": "4ec0b225",
   "metadata": {},
   "source": [
    "It is time to create eternal life."
   ]
  },
  {
   "cell_type": "markdown",
   "id": "bc7102a9",
   "metadata": {},
   "source": [
    "Here's how you can implement the final step to run the Game of Life forever using an infinite loop:"
   ]
  },
  {
   "cell_type": "code",
   "execution_count": 831,
   "id": "6bb3c0d9",
   "metadata": {
    "collapsed": true
   },
   "outputs": [
    {
     "name": "stdout",
     "output_type": "stream",
     "text": [
      " \n",
      " \n",
      " \n",
      " \n",
      " \n",
      " \n",
      " \n",
      " \n",
      "█\n",
      "█\n",
      " \n",
      " \n",
      " \n",
      " \n",
      " \n",
      " \n",
      " \n",
      " \n",
      " \n",
      " \n",
      " \n",
      " \n",
      " \n",
      " \n",
      " \n",
      " \n",
      " \n",
      " \n",
      " \n",
      " \n",
      " \n",
      " \n",
      " \n",
      " \n",
      " \n",
      " \n",
      " \n",
      " \n",
      " \n",
      " \n",
      " \n",
      " \n",
      " \n",
      " \n",
      " \n",
      " \n",
      " \n",
      " \n",
      " \n",
      " \n",
      " \n",
      " \n",
      " \n",
      " \n",
      " \n",
      " \n",
      " \n",
      " \n",
      " \n",
      " \n",
      " \n",
      " \n",
      " \n",
      " \n",
      " \n",
      " \n",
      " \n",
      " \n",
      " \n",
      " \n",
      " \n",
      " \n",
      " \n",
      " \n",
      " \n",
      " \n",
      " \n",
      " \n",
      " \n",
      " \n",
      " \n",
      " \n",
      " \n",
      " \n",
      " \n",
      " \n",
      " \n",
      " \n",
      " \n",
      " \n",
      " \n",
      " \n",
      " \n",
      " \n",
      " \n",
      " \n",
      " \n",
      " \n",
      " \n",
      " \n",
      " \n",
      " \n",
      " \n",
      " \n",
      " \n",
      " \n",
      " \n",
      " \n",
      " \n",
      " \n",
      " \n",
      " \n",
      " \n",
      " \n",
      " \n",
      " \n",
      " \n",
      " \n",
      " \n",
      " \n",
      " \n",
      " \n",
      " \n",
      " \n",
      " \n",
      " \n",
      " \n",
      " \n",
      " \n",
      " \n",
      " \n",
      " \n",
      " \n",
      " \n",
      " \n",
      " \n",
      " \n",
      " \n",
      " \n",
      " \n",
      " \n",
      " \n",
      " \n",
      " \n",
      " \n",
      " \n",
      " \n",
      " \n",
      " \n",
      " \n",
      " \n",
      " \n",
      " \n",
      " \n",
      " \n",
      " \n",
      " \n",
      " \n",
      " \n",
      " \n",
      " \n",
      " \n",
      " \n",
      " \n",
      " \n",
      " \n",
      " \n",
      " \n",
      " \n",
      " \n",
      " \n",
      " \n",
      " \n",
      " \n",
      " \n",
      " \n",
      " \n",
      " \n",
      " \n",
      " \n",
      " \n",
      " \n",
      " \n",
      " \n",
      " \n",
      " \n",
      " \n",
      " \n",
      " \n",
      " \n",
      " \n",
      " \n",
      " \n",
      " \n",
      " \n",
      " \n",
      " \n",
      " \n",
      " \n",
      " \n"
     ]
    },
    {
     "ename": "KeyboardInterrupt",
     "evalue": "",
     "output_type": "error",
     "traceback": [
      "\u001b[1;31m---------------------------------------------------------------------------\u001b[0m",
      "\u001b[1;31mKeyboardInterrupt\u001b[0m                         Traceback (most recent call last)",
      "Cell \u001b[1;32mIn[831], line 14\u001b[0m\n\u001b[0;32m     11\u001b[0m         initial_state \u001b[38;5;241m=\u001b[39m new_state  \u001b[38;5;66;03m# Update the current state\u001b[39;00m\n\u001b[0;32m     13\u001b[0m \u001b[38;5;28;01mif\u001b[39;00m \u001b[38;5;18m__name__\u001b[39m \u001b[38;5;241m==\u001b[39m \u001b[38;5;124m\"\u001b[39m\u001b[38;5;124m__main__\u001b[39m\u001b[38;5;124m\"\u001b[39m:\n\u001b[1;32m---> 14\u001b[0m     \u001b[43mmain\u001b[49m\u001b[43m(\u001b[49m\u001b[43m)\u001b[49m\n",
      "Cell \u001b[1;32mIn[831], line 10\u001b[0m, in \u001b[0;36mmain\u001b[1;34m()\u001b[0m\n\u001b[0;32m      8\u001b[0m render(initial_state)  \u001b[38;5;66;03m# Print the current state\u001b[39;00m\n\u001b[0;32m      9\u001b[0m new_state \u001b[38;5;241m=\u001b[39m next_board_state(initial_state)  \u001b[38;5;66;03m# Calculate the next state\u001b[39;00m\n\u001b[1;32m---> 10\u001b[0m \u001b[43mtime\u001b[49m\u001b[38;5;241;43m.\u001b[39;49m\u001b[43msleep\u001b[49m\u001b[43m(\u001b[49m\u001b[38;5;241;43m1\u001b[39;49m\u001b[43m)\u001b[49m  \u001b[38;5;66;03m# Optional: Add a delay to control the speed of the animation\u001b[39;00m\n\u001b[0;32m     11\u001b[0m initial_state \u001b[38;5;241m=\u001b[39m new_state\n",
      "\u001b[1;31mKeyboardInterrupt\u001b[0m: "
     ]
    }
   ],
   "source": [
    "def main():\n",
    "    width = 5  # Set your desired width\n",
    "    height = 5  # Set your desired height\n",
    "\n",
    "    initial_state = random_state(width, height)  # Initialize the initial state\n",
    "\n",
    "    while True:  # Run the game forever\n",
    "        render(initial_state)  # Print the current state\n",
    "        new_state = next_board_state(initial_state)  # Calculate the next state\n",
    "        time.sleep(1)  # Optional: Add a delay to control the speed of the animation\n",
    "        initial_state = new_state  # Update the current state\n",
    "\n",
    "if __name__ == \"__main__\":\n",
    "    main()\n"
   ]
  },
  {
   "cell_type": "markdown",
   "id": "fb06db10",
   "metadata": {},
   "source": [
    "In this code, we first initialize the `initial_state` using the `random_state` function. Then, we enter an infinite loop using while True:. Inside the loop, we render the current state using the render function and calculate the next state using the `next_board_state` function. The `time.sleep(1)` function is used to add a delay of 1 second between each iteration, giving you a chance to observe the animation.\n",
    "\n",
    "After calculating the next state, we update the `initial_state` with the new state, and the loop continues. This will create the effect of running the Game of Life forever, with each iteration showing a new state of the board.\n",
    "\n",
    "Keep in mind that running the Game of Life forever may consume a lot of resources and might not be practical for large board sizes. You can adjust the width, height, and delay to suit your preferences."
   ]
  },
  {
   "cell_type": "code",
   "execution_count": 835,
   "id": "a4f8a2d5",
   "metadata": {
    "collapsed": true
   },
   "outputs": [
    {
     "name": "stdout",
     "output_type": "stream",
     "text": [
      " \n",
      " \n",
      " \n",
      " \n",
      " \n",
      " \n",
      " \n",
      " \n",
      " \n",
      " \n",
      " \n",
      " \n",
      " \n",
      " \n",
      " \n",
      " \n",
      " \n",
      " \n",
      "█\n",
      "█\n",
      " \n",
      " \n",
      " \n",
      " \n",
      " \n",
      " \n",
      " \n",
      " \n",
      " \n",
      " \n",
      " \n",
      " \n",
      " \n",
      " \n",
      " \n",
      " \n",
      " \n",
      " \n",
      " \n",
      " \n",
      " \n",
      " \n",
      " \n",
      " \n",
      " \n",
      " \n",
      " \n",
      " \n",
      " \n",
      " \n",
      " \n",
      " \n",
      "█\n",
      "█\n",
      " \n",
      " \n",
      " \n",
      " \n",
      " \n",
      " \n",
      " \n",
      " \n",
      " \n",
      " \n",
      "█\n",
      "█\n",
      " \n",
      " \n",
      " \n",
      " \n",
      " \n",
      " \n",
      " \n",
      " \n",
      " \n",
      " \n",
      " \n",
      " \n",
      " \n",
      " \n",
      " \n",
      " \n",
      " \n",
      " \n",
      " \n",
      " \n",
      " \n",
      " \n",
      " \n",
      " \n",
      "█\n",
      "█\n",
      " \n",
      " \n",
      " \n",
      " \n",
      " \n",
      " \n",
      " \n",
      " \n"
     ]
    },
    {
     "ename": "IndexError",
     "evalue": "list assignment index out of range",
     "output_type": "error",
     "traceback": [
      "\u001b[1;31m---------------------------------------------------------------------------\u001b[0m",
      "\u001b[1;31mIndexError\u001b[0m                                Traceback (most recent call last)",
      "Cell \u001b[1;32mIn[835], line 13\u001b[0m\n\u001b[0;32m     11\u001b[0m init_state \u001b[38;5;241m=\u001b[39m random_state(\u001b[38;5;241m100\u001b[39m, \u001b[38;5;241m50\u001b[39m)\n\u001b[0;32m     12\u001b[0m \u001b[38;5;66;03m# init_state = load_board_state('./toad.txt')\u001b[39;00m\n\u001b[1;32m---> 13\u001b[0m \u001b[43mrun_forever\u001b[49m\u001b[43m(\u001b[49m\u001b[43minit_state\u001b[49m\u001b[43m)\u001b[49m\n",
      "Cell \u001b[1;32mIn[835], line 7\u001b[0m, in \u001b[0;36mrun_forever\u001b[1;34m(init_state)\u001b[0m\n\u001b[0;32m      5\u001b[0m \u001b[38;5;28;01mwhile\u001b[39;00m \u001b[38;5;28;01mTrue\u001b[39;00m:\n\u001b[0;32m      6\u001b[0m     render(next_state)\n\u001b[1;32m----> 7\u001b[0m     next_state \u001b[38;5;241m=\u001b[39m \u001b[43mnext_board_state\u001b[49m\u001b[43m(\u001b[49m\u001b[43mnext_state\u001b[49m\u001b[43m)\u001b[49m\n\u001b[0;32m      8\u001b[0m     time\u001b[38;5;241m.\u001b[39msleep(\u001b[38;5;241m0.03\u001b[39m)\n",
      "Cell \u001b[1;32mIn[834], line 11\u001b[0m, in \u001b[0;36mnext_board_state\u001b[1;34m(init_state)\u001b[0m\n\u001b[0;32m      9\u001b[0m \u001b[38;5;28;01mfor\u001b[39;00m x \u001b[38;5;129;01min\u001b[39;00m \u001b[38;5;28mrange\u001b[39m(\u001b[38;5;241m0\u001b[39m, width):\n\u001b[0;32m     10\u001b[0m     \u001b[38;5;28;01mfor\u001b[39;00m y \u001b[38;5;129;01min\u001b[39;00m \u001b[38;5;28mrange\u001b[39m(\u001b[38;5;241m0\u001b[39m, height):\n\u001b[1;32m---> 11\u001b[0m         \u001b[43mnew_state\u001b[49m\u001b[43m[\u001b[49m\u001b[43mx\u001b[49m\u001b[43m]\u001b[49m\u001b[43m[\u001b[49m\u001b[43my\u001b[49m\u001b[43m]\u001b[49m \u001b[38;5;241m=\u001b[39m next_cell_value((x, y), init_state)\n\u001b[0;32m     13\u001b[0m \u001b[38;5;28;01mreturn\u001b[39;00m new_state\n",
      "\u001b[1;31mIndexError\u001b[0m: list assignment index out of range"
     ]
    }
   ],
   "source": [
    "def run_forever(init_state):\n",
    "    # runs the game of life forever, starting from the initial state\n",
    "    # the program must be forcibly exited\n",
    "    next_state = init_state\n",
    "    while True:\n",
    "        render(next_state)\n",
    "        next_state = next_board_state(next_state)\n",
    "        time.sleep(0.03)\n",
    "        \n",
    "if __name__ == \"__main__\":\n",
    "    init_state = random_state(100, 50)\n",
    "    # init_state = load_board_state('./toad.txt')\n",
    "    run_forever(init_state)"
   ]
  }
 ],
 "metadata": {
  "kernelspec": {
   "display_name": "Python 3 (ipykernel)",
   "language": "python",
   "name": "python3"
  },
  "language_info": {
   "codemirror_mode": {
    "name": "ipython",
    "version": 3
   },
   "file_extension": ".py",
   "mimetype": "text/x-python",
   "name": "python",
   "nbconvert_exporter": "python",
   "pygments_lexer": "ipython3",
   "version": "3.9.13"
  }
 },
 "nbformat": 4,
 "nbformat_minor": 5
}
